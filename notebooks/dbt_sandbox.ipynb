{
 "cells": [
  {
   "cell_type": "code",
   "execution_count": 15,
   "metadata": {},
   "outputs": [
    {
     "data": {
      "text/plain": [
       "{'timestamp': 1686221688629,\n",
       " 'status': 404,\n",
       " 'error': 'Not Found',\n",
       " 'path': '/p/v1/finance/TCB/cashflowasdasdsa'}"
      ]
     },
     "execution_count": 15,
     "metadata": {},
     "output_type": "execute_result"
    }
   ],
   "source": [
    "import requests\n",
    "url = f'https://apipubaws.tcbs.com.vn/tcanalysis/v1/finance/TCB/cashflowasdasdsa'\n",
    "requests.get(url, params={'yearly': 1, 'isAll': True}).json()"
   ]
  },
  {
   "cell_type": "code",
   "execution_count": 16,
   "metadata": {},
   "outputs": [
    {
     "name": "stdout",
     "output_type": "stream",
     "text": [
      "start func1\n",
      "start func2\n"
     ]
    }
   ],
   "source": [
    "from multiprocessing import Process\n",
    "import sys\n",
    "\n",
    "rocket = 0\n",
    "\n",
    "def func1():\n",
    "    global rocket\n",
    "    print('start func1')\n",
    "    while rocket < 10000000:\n",
    "        rocket += 1\n",
    "    print('end func1')\n",
    "\n",
    "def func2():\n",
    "    global rocket\n",
    "    print('start func2')\n",
    "    while rocket < 10000000:\n",
    "        rocket += 1\n",
    "    print('end func2')\n",
    "\n",
    "if __name__=='__main__':\n",
    "    p1 = Process(target = func1)\n",
    "    p1.start()\n",
    "    p2 = Process(target = func2)\n",
    "    p2.start()"
   ]
  },
  {
   "cell_type": "code",
   "execution_count": 2,
   "metadata": {},
   "outputs": [
    {
     "name": "stdout",
     "output_type": "stream",
     "text": [
      "Defaulting to user installation because normal site-packages is not writeable\n",
      "Requirement already satisfied: vnstock in /home/jazzdung/.local/lib/python3.10/site-packages (0.1.4)\n",
      "Requirement already satisfied: openpyxl in /home/jazzdung/.local/lib/python3.10/site-packages (3.1.2)\n",
      "Requirement already satisfied: excel2json in /home/jazzdung/.local/lib/python3.10/site-packages (1.0.1)\n",
      "Requirement already satisfied: et-xmlfile in /home/jazzdung/.local/lib/python3.10/site-packages (from openpyxl) (1.1.0)\n",
      "Requirement already satisfied: six>=1.10.0 in /usr/lib/python3/dist-packages (from excel2json) (1.16.0)\n",
      "Requirement already satisfied: xlrd>=1.0.0 in /home/jazzdung/.local/lib/python3.10/site-packages (from excel2json) (2.0.1)\n",
      "Note: you may need to restart the kernel to use updated packages.\n"
     ]
    }
   ],
   "source": [
    "pip install vnstock openpyxl excel2json"
   ]
  },
  {
   "cell_type": "code",
   "execution_count": 3,
   "metadata": {},
   "outputs": [],
   "source": [
    "import requests, pandas as pd\n",
    "from io import BytesIO\n",
    "from vnstock import *"
   ]
  },
  {
   "cell_type": "code",
   "execution_count": null,
   "metadata": {},
   "outputs": [],
   "source": [
    "os.chdir(\"models\")\n",
    "for f in glob.glob(\"*.sql\"):"
   ]
  },
  {
   "cell_type": "code",
   "execution_count": 1,
   "metadata": {},
   "outputs": [],
   "source": [
    "import sqlparse, glob, os\n",
    "def query_uppercase():\n",
    "    for f in glob.glob(\"./*.sql\"):\n",
    "        f.open()\n",
    "        query = sqlparse.format(f.read(), reindent=False, keyword_case='upper')\n",
    "        f.write(query)\n",
    "        f.close()\n",
    "    "
   ]
  },
  {
   "cell_type": "code",
   "execution_count": 2,
   "metadata": {},
   "outputs": [],
   "source": [
    "query_uppercase()"
   ]
  },
  {
   "cell_type": "code",
   "execution_count": 56,
   "metadata": {},
   "outputs": [],
   "source": [
    "import re, sqlparse\n",
    "\n",
    "\n",
    "def create_staging_script(df, name):\n",
    "    query = \"\"\"\n",
    "        select\n",
    "    \"\"\"\n",
    "\n",
    "    for columns in df.columns:\n",
    "        if not any(char.isupper() for char in columns):\n",
    "            query += f'{columns}, \\n'\n",
    "        else:\n",
    "            new_column_name = re.sub( \"(?<!^)(?=[A-Z]|[0-9])\", \"_\", columns).lower()\n",
    "            query += f'{columns} as {new_column_name},\\n'\n",
    "\n",
    "    query = query[:-3]\n",
    "    query += f'\\n'\n",
    "    # query += 'from{{source(\\'' + name + '\\', \\'' + name + '\\') }}'\n",
    "    query += f'from {{{{source(\\'{name}\\', \\'{name}\\')}}}}'\n",
    "\n",
    "    query = sqlparse.format(query, reindent=True, keyword_case='upper')\n",
    "\n",
    "    f = open(f'models/staging/native/stg_{name}.sql', \"w\")\n",
    "    f.write(query)\n",
    "    f.close()\n",
    "\n",
    "    return None\n"
   ]
  },
  {
   "cell_type": "code",
   "execution_count": 57,
   "metadata": {},
   "outputs": [],
   "source": [
    "create_staging_script(general_rating('TCB'), \"general_rating\")"
   ]
  },
  {
   "cell_type": "code",
   "execution_count": 65,
   "metadata": {},
   "outputs": [],
   "source": [
    "def create_basic_dim_script(name):\n",
    "    query = f'''with {name}  as (\n",
    "    select * from {{{{ref ('stg_{name}')}}}}\n",
    "),\n",
    "\n",
    "final as (\n",
    "    select *\n",
    "    from {name} \n",
    ")\n",
    "\n",
    "select * from final'''\n",
    "\n",
    "    query = sqlparse.format(query, reindent=False, keyword_case='upper')\n",
    "\n",
    "    f = open(f'models/marts/dim_{name}.sql', \"w\")\n",
    "    f.write(query)\n",
    "    f.close()\n",
    "\n",
    "    return None"
   ]
  },
  {
   "cell_type": "code",
   "execution_count": 70,
   "metadata": {},
   "outputs": [],
   "source": [
    "create_basic_dim_script('price_history')"
   ]
  },
  {
   "cell_type": "code",
   "execution_count": 20,
   "metadata": {},
   "outputs": [
    {
     "ename": "SyntaxError",
     "evalue": "invalid syntax. Perhaps you forgot a comma? (4204703233.py, line 3)",
     "output_type": "error",
     "traceback": [
      "\u001b[0;36m  Cell \u001b[0;32mIn[20], line 3\u001b[0;36m\u001b[0m\n\u001b[0;31m    f'with {name} as (\\n'\u001b[0m\n\u001b[0m    ^\u001b[0m\n\u001b[0;31mSyntaxError\u001b[0m\u001b[0;31m:\u001b[0m invalid syntax. Perhaps you forgot a comma?\n"
     ]
    }
   ],
   "source": [
    "def create_basic_dim_script(name):\n",
    "    query = (\n",
    "        f'with {name} as (\\n'\n",
    "        f'    select * from {{{{ref ('stg_{name}')}}}}\\n'\n",
    "        f'),\\n'\n",
    "        f'\\n'\n",
    "        f'final as (\\n'\n",
    "        f'    select *\\n'\n",
    "        f'    from {name}\\n'\n",
    "        f')\\n'\n",
    "        f'\\n'\n",
    "        f'select * from final\\n'\n",
    "    )\n",
    "\n",
    "    f = open(f'models/marts/dim_{name}.sql', \"w\")\n",
    "    f.write(query)\n",
    "    f.close()\n",
    "\n",
    "    return None"
   ]
  },
  {
   "cell_type": "code",
   "execution_count": 21,
   "metadata": {},
   "outputs": [],
   "source": [
    "from pandas.io.json._table_schema import build_table_schema\n",
    "import re\n",
    "import json\n",
    "\n",
    "# balancesheet = financial_flow('TCB', 'balancesheet','yearly')\n",
    "# incomestatement = financial_flow('TCB', 'incomestatement','yearly')\n",
    "# cashflow = financial_flow('TCB', 'cashflow','yearly')\n",
    "\n",
    "\n",
    "def write_json_schema(df, file):\n",
    "    schema = build_table_schema(df, index=False)\n",
    "    schema = schema['fields']\n",
    "    schema = str(schema)\n",
    "    schema = re.sub(\"\\[\", \"\", schema)\n",
    "    schema = re.sub(\"\\]\", \"\", schema)\n",
    "    schema = re.sub(\"'\", \"\\\"\", schema)\n",
    "    schema = re.sub(\"{\\\"name\\\": \", \"\", schema)\n",
    "    schema = re.sub(\", \\\"type\\\"\", \": {\\\"type\\\"\", schema)\n",
    "\n",
    "\n",
    "    header = \"\"\"\n",
    "    {\n",
    "        \"type\": \"object\",\n",
    "        \"description\": \"\",\n",
    "        \"properties\": {\n",
    "    \"\"\"\n",
    "\n",
    "    ending = \"\"\"\n",
    "        }\n",
    "    }\n",
    "    \"\"\"\n",
    "\n",
    "    return schema\n"
   ]
  },
  {
   "cell_type": "code",
   "execution_count": 23,
   "metadata": {},
   "outputs": [
    {
     "data": {
      "text/plain": [
       "'\\n    {\\n        \"type\": \"object\",\\n        \"description\": \"\",\\n        \"properties\": {\\n    \"stockRating\": {\"type\": \"number\"}, \"valuation\": {\"type\": \"number\"}, \"financialHealth\": {\"type\": \"number\"}, \"businessModel\": {\"type\": \"number\"}, \"businessOperation\": {\"type\": \"number\"}, \"rsRating\": {\"type\": \"number\"}, \"taScore\": {\"type\": \"number\"}, \"ticker\": {\"type\": \"string\"}, \"highestPrice\": {\"type\": \"number\"}, \"lowestPrice\": {\"type\": \"number\"}, \"priceChange3m\": {\"type\": \"number\"}, \"priceChange1y\": {\"type\": \"number\"}, \"beta\": {\"type\": \"number\"}, \"alpha\": {\"type\": \"number\"}\\n        }\\n    }\\n    '"
      ]
     },
     "execution_count": 23,
     "metadata": {},
     "output_type": "execute_result"
    }
   ],
   "source": [
    "generalrating = general_rating(\"TCB\")\n",
    "write_json_schema(generalrating, \"source_tcbs_general_rating/schemas/general_rating.json\")"
   ]
  },
  {
   "cell_type": "code",
   "execution_count": 24,
   "metadata": {},
   "outputs": [
    {
     "data": {
      "text/plain": [
       "'\\n        {\\n            \"stream\": {\\n            \"name\": \"balance_sheet\",\\n            \"description\": \"Stock data price history\",\\n            \"json_schema\": {\\n                \"$schema\": \"http://json-schema.org/draft-04/schema#\",\\n        \"stockRating\": {\"type\": \"number\"}, \"valuation\": {\"type\": \"number\"}, \"financialHealth\": {\"type\": \"number\"}, \"businessModel\": {\"type\": \"number\"}, \"businessOperation\": {\"type\": \"number\"}, \"rsRating\": {\"type\": \"number\"}, \"taScore\": {\"type\": \"number\"}, \"ticker\": {\"type\": \"string\"}, \"highestPrice\": {\"type\": \"number\"}, \"lowestPrice\": {\"type\": \"number\"}, \"priceChange3m\": {\"type\": \"number\"}, \"priceChange1y\": {\"type\": \"number\"}, \"beta\": {\"type\": \"number\"}, \"alpha\": {\"type\": \"number\"}\\n            },\\n            \"supported_sync_modes\": [\"full_refresh\"]\\n            },\\n            \"sync_mode\": \"full_refresh\",\\n            \"destination_sync_mode\": \"append\"\\n        }\\n        '"
      ]
     },
     "execution_count": 24,
     "metadata": {},
     "output_type": "execute_result"
    }
   ],
   "source": [
    "from pandas.io.json._table_schema import build_table_schema\n",
    "import re\n",
    "import json\n",
    "\n",
    "balancesheet = financial_flow('TCB', 'balancesheet','yearly')\n",
    "incomestatement = financial_flow('TCB', 'incomestatement','yearly')\n",
    "cashflow = financial_flow('TCB', 'cashflow','yearly')\n",
    "\n",
    "\n",
    "def write_configured_catalog(df_list, file):\n",
    "    final_json = \"\"\"\n",
    "    {\n",
    "    \"streams\": [\n",
    "    \"\"\"\n",
    "\n",
    "    for df in df_list:\n",
    "        schema = build_table_schema(df)\n",
    "        schema = schema['fields']\n",
    "        schema = str(schema[1:])\n",
    "        schema = re.sub(\"\\[\", \"\", schema)\n",
    "        schema = re.sub(\"\\]\", \"\", schema)\n",
    "        schema = re.sub(\"'\", \"\\\"\", schema)\n",
    "        schema = re.sub(\"{\\\"name\\\": \", \"\", schema)\n",
    "        schema = re.sub(\", \\\"type\\\"\", \": {\\\"type\\\"\", schema)\n",
    "\n",
    "\n",
    "        header = \"\"\"\n",
    "        {\n",
    "            \"stream\": {\n",
    "            \"name\": \"balance_sheet\",\n",
    "            \"description\": \"Stock data price history\",\n",
    "            \"json_schema\": {\n",
    "                \"$schema\": \"http://json-schema.org/draft-04/schema#\",\n",
    "        \"\"\"\n",
    "\n",
    "        ending = \"\"\"\n",
    "            },\n",
    "            \"supported_sync_modes\": [\"full_refresh\"]\n",
    "            },\n",
    "            \"sync_mode\": \"full_refresh\",\n",
    "            \"destination_sync_mode\": \"append\"\n",
    "        }\n",
    "        \"\"\"\n",
    "\n",
    "        schema = header + schema + ending\n",
    "\n",
    "        final_json += schema\n",
    "    \n",
    "    final_json += \"] }\"\n",
    "    f = open(file, \"w\")\n",
    "    f.write(final_json)\n",
    "    f.close()\n",
    "\n",
    "    return schema\n",
    "\n",
    "# write_json_schema(balancesheet, \"source_tcbs_financial_report/schemas/balance_sheet.json\")\n",
    "# write_json_schema(incomestatement, \"source_tcbs_financial_report/schemas/incomestatement.json\")\n",
    "# write_json_schema(cashflow, \"source_tcbs_financial_report/schemas/cashflow.json\")\n",
    "\n",
    "write_configured_catalog([generalrating], \"integration_tests/configured_catalog.json\")"
   ]
  },
  {
   "cell_type": "code",
   "execution_count": 8,
   "metadata": {},
   "outputs": [
    {
     "data": {
      "text/plain": [
       "{'stockRating': 4.2,\n",
       " 'valuation': 3.4,\n",
       " 'financialHealth': 3.9,\n",
       " 'businessModel': 3.4,\n",
       " 'businessOperation': 4.7,\n",
       " 'rsRating': 2.7,\n",
       " 'taScore': 1.0,\n",
       " 'stockRecommend': ['BID',\n",
       "  'CTG',\n",
       "  'SHB',\n",
       "  'HDB',\n",
       "  'MSB',\n",
       "  'VCB',\n",
       "  'TPB',\n",
       "  'LPB',\n",
       "  'MBB',\n",
       "  'ACB'],\n",
       " 'ticker': 'TCB',\n",
       " 'highestPrice': 39550.0,\n",
       " 'lowestPrice': 20700.0,\n",
       " 'priceChange3m': 0.194,\n",
       " 'priceChange1y': -0.096,\n",
       " 'beta': 1.42,\n",
       " 'alpha': 0.0007}"
      ]
     },
     "execution_count": 8,
     "metadata": {},
     "output_type": "execute_result"
    }
   ],
   "source": [
    "import requests\n",
    "url = f'https://apipubaws.tcbs.com.vn/tcanalysis/v1/rating/TCB/general?fType=TICKER'\n",
    "requests.get(url).json()"
   ]
  }
 ],
 "metadata": {
  "kernelspec": {
   "display_name": "Python 3",
   "language": "python",
   "name": "python3"
  },
  "language_info": {
   "codemirror_mode": {
    "name": "ipython",
    "version": 3
   },
   "file_extension": ".py",
   "mimetype": "text/x-python",
   "name": "python",
   "nbconvert_exporter": "python",
   "pygments_lexer": "ipython3",
   "version": "3.10.6"
  },
  "orig_nbformat": 4
 },
 "nbformat": 4,
 "nbformat_minor": 2
}
